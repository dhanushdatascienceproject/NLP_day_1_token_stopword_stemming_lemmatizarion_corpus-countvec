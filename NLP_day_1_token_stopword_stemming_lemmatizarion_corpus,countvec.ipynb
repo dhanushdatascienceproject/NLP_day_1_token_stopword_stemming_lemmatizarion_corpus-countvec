{
  "nbformat": 4,
  "nbformat_minor": 0,
  "metadata": {
    "colab": {
      "provenance": []
    },
    "kernelspec": {
      "name": "python3",
      "display_name": "Python 3"
    },
    "language_info": {
      "name": "python"
    }
  },
  "cells": [
    {
      "cell_type": "code",
      "execution_count": 1,
      "metadata": {
        "colab": {
          "base_uri": "https://localhost:8080/"
        },
        "id": "iITlDasvbfJ8",
        "outputId": "d7df3a80-9e4f-40d0-fbf7-55a5b8e5d74b"
      },
      "outputs": [
        {
          "output_type": "stream",
          "name": "stderr",
          "text": [
            "[nltk_data] Downloading package punkt to /root/nltk_data...\n",
            "[nltk_data]   Unzipping tokenizers/punkt.zip.\n",
            "[nltk_data] Downloading package stopwords to /root/nltk_data...\n",
            "[nltk_data]   Unzipping corpora/stopwords.zip.\n",
            "[nltk_data] Downloading package wordnet to /root/nltk_data...\n"
          ]
        },
        {
          "output_type": "stream",
          "name": "stdout",
          "text": [
            "Tokens: ['Natural', 'Language', 'Processing', 'is', 'fascinating', 'and', 'I', 'love', 'working', 'with', 'NLP', '.']\n",
            "Filtered Tokens: ['Natural', 'Language', 'Processing', 'fascinating', 'love', 'working', 'NLP', '.']\n",
            "Stemmed Words: ['natur', 'languag', 'process', 'fascin', 'love', 'work', 'nlp', '.']\n",
            "Lemmatized Words: ['Natural', 'Language', 'Processing', 'fascinating', 'love', 'working', 'NLP', '.']\n",
            "Bag of Words Matrix:\n",
            " [[1 0 0 1 0 1 0 1 0 1]\n",
            " [0 1 1 0 1 0 1 0 1 0]]\n",
            "Feature Names (Vocabulary): ['amazing' 'and' 'applications' 'is' 'its' 'language' 'love' 'natural'\n",
            " 'nlp' 'processing']\n"
          ]
        }
      ],
      "source": [
        "import nltk\n",
        "from nltk.tokenize import word_tokenize\n",
        "from nltk.corpus import stopwords\n",
        "from nltk.stem import PorterStemmer, WordNetLemmatizer\n",
        "from sklearn.feature_extraction.text import CountVectorizer\n",
        "\n",
        "# Download necessary NLTK data\n",
        "nltk.download('punkt')\n",
        "nltk.download('stopwords')\n",
        "nltk.download('wordnet')\n",
        "\n",
        "# Step 1: Tokenization\n",
        "text = \"Natural Language Processing is fascinating and I love working with NLP.\"\n",
        "tokens = word_tokenize(text)\n",
        "print(\"Tokens:\", tokens)\n",
        "\n",
        "# Step 2: Removing Stopwords\n",
        "stop_words = set(stopwords.words('english'))\n",
        "filtered_tokens = [word for word in tokens if word.lower() not in stop_words]\n",
        "print(\"Filtered Tokens:\", filtered_tokens)\n",
        "\n",
        "# Step 3: Stemming\n",
        "stemmer = PorterStemmer()\n",
        "stemmed_words = [stemmer.stem(word) for word in filtered_tokens]\n",
        "print(\"Stemmed Words:\", stemmed_words)\n",
        "\n",
        "# Step 4: Lemmatization\n",
        "lemmatizer = WordNetLemmatizer()\n",
        "lemmatized_words = [lemmatizer.lemmatize(word) for word in filtered_tokens]\n",
        "print(\"Lemmatized Words:\", lemmatized_words)\n",
        "\n",
        "# Step 5: Creating a Corpus\n",
        "corpus = [\"Natural Language Processing is amazing.\", \"I love NLP and its applications.\"]\n",
        "\n",
        "# Step 6: Bag of Words Model\n",
        "vectorizer = CountVectorizer()\n",
        "X = vectorizer.fit_transform(corpus)\n",
        "print(\"Bag of Words Matrix:\\n\", X.toarray())\n",
        "print(\"Feature Names (Vocabulary):\", vectorizer.get_feature_names_out())\n"
      ]
    }
  ]
}